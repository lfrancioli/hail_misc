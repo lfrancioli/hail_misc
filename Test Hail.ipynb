{
 "cells": [
  {
   "cell_type": "code",
   "execution_count": 1,
   "metadata": {
    "collapsed": true
   },
   "outputs": [],
   "source": [
    "from hail import *\n",
    "hc = HailContext()"
   ]
  },
  {
   "cell_type": "code",
   "execution_count": 2,
   "metadata": {
    "collapsed": false
   },
   "outputs": [
    {
     "name": "stdout",
     "output_type": "stream",
     "text": [
      "Struct {\n",
      "    rsid: String,\n",
      "    qual: Double,\n",
      "    filters: Set[String],\n",
      "    pass: Boolean,\n",
      "    info: Struct {\n",
      "        NEGATIVE_TRAIN_SITE: Boolean,\n",
      "        HWP: Double,\n",
      "        AC: Array[Int],\n",
      "        culprit: String,\n",
      "        MQ0: Int,\n",
      "        ReadPosRankSum: Double,\n",
      "        AN: Int,\n",
      "        InbreedingCoeff: Double,\n",
      "        AF: Array[Double],\n",
      "        GQ_STDDEV: Double,\n",
      "        FS: Double,\n",
      "        DP: Int,\n",
      "        GQ_MEAN: Double,\n",
      "        POSITIVE_TRAIN_SITE: Boolean,\n",
      "        VQSLOD: Double,\n",
      "        ClippingRankSum: Double,\n",
      "        BaseQRankSum: Double,\n",
      "        MLEAF: Array[Double],\n",
      "        MLEAC: Array[Int],\n",
      "        MQ: Double,\n",
      "        QD: Double,\n",
      "        END: Int,\n",
      "        DB: Boolean,\n",
      "        HaplotypeScore: Double,\n",
      "        MQRankSum: Double,\n",
      "        CCC: Int,\n",
      "        NCC: Int,\n",
      "        DS: Boolean\n",
      "    },\n",
      "    useInKinship: Boolean,\n",
      "    panel_maf: Double,\n",
      "    anno1: Int,\n",
      "    anno2: Int,\n",
      "    consequence: String,\n",
      "    gene: String,\n",
      "    score: Double,\n",
      "    aIndex: Int,\n",
      "    wasSplit: Boolean,\n",
      "    qc: Struct {\n",
      "        callRate: Double,\n",
      "        AC: Int,\n",
      "        AF: Double,\n",
      "        nCalled: Int,\n",
      "        nNotCalled: Int,\n",
      "        nHomRef: Int,\n",
      "        nHet: Int,\n",
      "        nHomVar: Int,\n",
      "        dpMean: Double,\n",
      "        dpStDev: Double,\n",
      "        gqMean: Double,\n",
      "        gqStDev: Double,\n",
      "        nNonRef: Int,\n",
      "        rHeterozygosity: Double,\n",
      "        rHetHomVar: Double,\n",
      "        rExpectedHetFrequency: Double,\n",
      "        pHWE: Double\n",
      "    }\n",
      "}\n"
     ]
    }
   ],
   "source": [
    "hc = HailContext()\n",
    "vds = hc.read(\"/Users/laurent/tools/hail/python/hail/docs/data/example.vds\")\n",
    "print(vds.variant_schema)"
   ]
  },
  {
   "cell_type": "code",
   "execution_count": 2,
   "metadata": {
    "collapsed": false
   },
   "outputs": [
    {
     "name": "stdout",
     "output_type": "stream",
     "text": [
      "Struct {\n",
      "    rsid: String,\n",
      "    qual: Double,\n",
      "    filters: Set[String],\n",
      "    info: Struct {\n",
      "        AC: Array[Int],\n",
      "        AF: Array[Double],\n",
      "        AN: Int,\n",
      "        BaseQRankSum: Double,\n",
      "        ClippingRankSum: Double,\n",
      "        DB: Boolean,\n",
      "        DP: Int,\n",
      "        DS: Boolean,\n",
      "        END: Int,\n",
      "        FS: Double,\n",
      "        HaplotypeScore: Double,\n",
      "        InbreedingCoeff: Double,\n",
      "        MLEAC: Array[Int],\n",
      "        MLEAF: Array[Double],\n",
      "        MQ: Double,\n",
      "        MQ0: Int,\n",
      "        MQRankSum: Double,\n",
      "        QD: Double,\n",
      "        RAW_MQ: Double,\n",
      "        ReadPosRankSum: Double,\n",
      "        SOR: Double\n",
      "    }\n",
      "}\n",
      "1085\n"
     ]
    }
   ],
   "source": [
    "vds = hc.read(\"/Users/laurent/projects/gnomad/one_chunk/gnomAD.variant_filtered.1415.1k_variants.vds\")\n",
    "print(vds.variant_schema)\n",
    "print(vds.count_variants())"
   ]
  },
  {
   "cell_type": "code",
   "execution_count": 9,
   "metadata": {
    "collapsed": false
   },
   "outputs": [
    {
     "data": {
      "text/plain": [
       "[Struct{u'qual2': 1635.9758815596183, u'qual3': 1635.9758815595737, u'nrdp': 205, u'qual': 861.25, u'qd2': 7.98037015394914, u'qd': 4.2, u'y': 4.201219512195122, u'x': 0.0010189763266213998, u'dp': 845211},\n",
       " Struct{u'qual2': 225.456894675965, u'qual3': 225.45689467595093, u'nrdp': 64, u'qual': 146.46, u'qd2': 3.5227639793117334, u'qd': 2.29, u'y': 2.2884375, u'x': 0.00017087674963161046, u'dp': 857109},\n",
       " Struct{u'qual2': 341.69031348395936, u'qual3': 341.69031348397414, u'nrdp': 48, u'qual': 267.46, u'qd2': 7.118548197582794, u'qd': 5.57, u'y': 5.572083333333333, u'x': 0.0003114323840308521, u'dp': 858806},\n",
       " Struct{u'qual2': inf, u'qual3': 119040.51209057943, u'nrdp': 19402, u'qual': 111127.69, u'qd2': 6.1354763473136495, u'qd': 5.73, u'y': 5.727640964848985, u'x': 0.1189237354793487, u'dp': 934445},\n",
       " Struct{u'qual2': inf, u'qual3': inf, u'nrdp': 525902, u'qual': 6670829.2, u'qd2': inf, u'qd': 12.68, u'y': 12.684548071693966, u'x': 7.503576072529302, u'dp': 889020},\n",
       " Struct{u'qual2': 549.4617836716366, u'qual3': 549.4617836716507, u'nrdp': 93, u'qual': 508.64, u'qd2': 5.908191222275813, u'qd': 5.47, u'y': 5.4692473118279565, u'x': 0.0005836340583243928, u'dp': 871505},\n",
       " Struct{u'qual2': 105.21303077714778, u'qual3': 105.21303077716723, u'nrdp': 39, u'qual': 31.47, u'qd2': 2.697770019927365, u'qd': 0.81, u'y': 0.8069230769230769, u'x': 3.621366407022252e-05, u'dp': 869009},\n",
       " Struct{u'qual2': 184.8120033318585, u'qual3': 184.8120033317846, u'nrdp': 33, u'qual': 101.46, u'qd2': 5.6003637373268065, u'qd': 3.07, u'y': 3.0745454545454542, u'x': 0.00011577077250118953, u'dp': 876387},\n",
       " Struct{u'qual2': 568.9197597044366, u'qual3': 568.9197597044404, u'nrdp': 72, u'qual': 477.47, u'qd2': 7.901663329228338, u'qd': 6.63, u'y': 6.631527777777778, u'x': 0.0005421852289244186, u'dp': 880640},\n",
       " Struct{u'qual2': 141.64296130781128, u'qual3': 141.6429613078479, u'nrdp': 50, u'qual': 57.47, u'qd2': 2.832859226156958, u'qd': 1.15, u'y': 1.1494, u'x': 6.516833546894667e-05, u'dp': 881870}]"
      ]
     },
     "execution_count": 9,
     "metadata": {},
     "output_type": "execute_result"
    }
   ],
   "source": [
    "vds = vds.annotate_variants_expr(['va.nrdp = gs.filter(g => g.isCalledNonRef).map(g => g.dp).sum()', 'va.qual3 = -10*gs.map(g => log10(g.gp[0])).sum()'])\n",
    "vds.query_variants('variants.map(v => {qual: va.qual, qual2: va.qual2, qual3: va.qual3, qd: va.info.QD, qd2: va.qual3 / va.nrdp , dp: va.info.DP, nrdp: va.nrdp, x: va.qual/ va.info.DP, y: va.qual/va.nrdp}).take(10)')"
   ]
  },
  {
   "cell_type": "code",
   "execution_count": 30,
   "metadata": {
    "collapsed": false,
    "scrolled": true
   },
   "outputs": [
    {
     "name": "stdout",
     "output_type": "stream",
     "text": [
      "Struct{u'FS': 3.069, u'POSITIVE_TRAIN_SITE': None, u'DB': None, u'BaseQRankSum': -2.904, u'MQRankSum': 0.51, u'DS': None, u'DP': 21095, u'MLEAC': [1], u'MLEAF': [0.0005747], u'culprit': u'MQ', u'CCC': 1740, u'HaplotypeScore': None, u'ClippingRankSum': -2.526, u'AC': [1], u'END': None, u'AF': [0.0005747], u'VQSLOD': 0.621, u'AN': 200, u'MQ0': 0, u'GQ_MEAN': 62.21, u'NEGATIVE_TRAIN_SITE': None, u'ReadPosRankSum': 2.24, u'InbreedingCoeff': -0.0007, u'GQ_STDDEV': 53.19, u'HWP': 1.0, u'MQ': 58.36, u'QD': 11.59, u'NCC': 0}\n",
      "Struct{u'FS': 1.544, u'POSITIVE_TRAIN_SITE': None, u'DB': None, u'BaseQRankSum': 1.95, u'MQRankSum': 1.54, u'DS': None, u'DP': 39907, u'MLEAC': [2], u'MLEAF': [0.001149], u'culprit': u'InbreedingCoeff', u'CCC': 1740, u'HaplotypeScore': None, u'ClippingRankSum': -0.646, u'AC': [1], u'END': None, u'AF': [0.001149], u'VQSLOD': 2.39, u'AN': 200, u'MQ0': 0, u'GQ_MEAN': 89.68, u'NEGATIVE_TRAIN_SITE': None, u'ReadPosRankSum': 0.529, u'InbreedingCoeff': -0.0012, u'GQ_STDDEV': 61.68, u'HWP': 1.0, u'MQ': 59.41, u'QD': 9.61, u'NCC': 0}\n"
     ]
    }
   ],
   "source": [
    "print(vds4.query_variants('variants.map(v => va.info).collect()[2]'))\n",
    "print(vds4.query_variants('variants.map(v => va.info).collect()[-2]'))"
   ]
  },
  {
   "cell_type": "code",
   "execution_count": 48,
   "metadata": {
    "collapsed": false
   },
   "outputs": [
    {
     "data": {
      "text/plain": [
       "True"
      ]
     },
     "execution_count": 48,
     "metadata": {},
     "output_type": "execute_result"
    }
   ],
   "source": [
    "vds2 = vds2.annotate_variants_expr('va.info = drop(va.info, AC)')\n",
    "vds3 = vds3.annotate_variants_expr('va.info = drop(va.info, MQ)')\n",
    "vds4 = vds2.union([vds3],True)\n",
    "vds.count_variants() == vds4.count_variants()"
   ]
  },
  {
   "cell_type": "code",
   "execution_count": 49,
   "metadata": {
    "collapsed": false
   },
   "outputs": [
    {
     "data": {
      "text/plain": [
       "[Struct{u'FS': 3.069, u'POSITIVE_TRAIN_SITE': None, u'DB': None, u'BaseQRankSum': -2.904, u'MQRankSum': 0.51, u'DS': None, u'DP': 21095, u'MLEAC': [1], u'MLEAF': [0.0005747], u'culprit': u'MQ', u'CCC': 1740, u'HaplotypeScore': None, u'ClippingRankSum': -2.526, u'AC': None, u'END': None, u'AF': [0.0005747], u'VQSLOD': 0.621, u'AN': 200, u'MQ0': 0, u'GQ_MEAN': 62.21, u'NEGATIVE_TRAIN_SITE': None, u'ReadPosRankSum': 2.24, u'InbreedingCoeff': -0.0007, u'GQ_STDDEV': 53.19, u'HWP': 1.0, u'MQ': 58.36, u'QD': 11.59, u'NCC': 0},\n",
       " Struct{u'FS': 1.544, u'POSITIVE_TRAIN_SITE': None, u'DB': None, u'BaseQRankSum': 1.95, u'MQRankSum': 1.54, u'DS': None, u'DP': 39907, u'MLEAC': [2], u'MLEAF': [0.001149], u'culprit': u'InbreedingCoeff', u'CCC': 1740, u'HaplotypeScore': None, u'ClippingRankSum': -0.646, u'AC': [1], u'END': None, u'AF': [0.001149], u'VQSLOD': 2.39, u'AN': 200, u'MQ0': 0, u'GQ_MEAN': 89.68, u'NEGATIVE_TRAIN_SITE': None, u'ReadPosRankSum': 0.529, u'InbreedingCoeff': -0.0012, u'GQ_STDDEV': 61.68, u'HWP': 1.0, u'MQ': None, u'QD': 9.61, u'NCC': 0}]"
      ]
     },
     "execution_count": 49,
     "metadata": {},
     "output_type": "execute_result"
    }
   ],
   "source": [
    "vds4.query_variants(['variants.map(v => va.info).collect()[2]',\n",
    "                     'variants.map(v => va.info).collect()[-2]'])"
   ]
  },
  {
   "cell_type": "code",
   "execution_count": 50,
   "metadata": {
    "collapsed": false
   },
   "outputs": [
    {
     "data": {
      "text/plain": [
       "[{False: 5L, True: 6L}, {False: 6L, True: 5L}]"
      ]
     },
     "execution_count": 50,
     "metadata": {},
     "output_type": "execute_result"
    }
   ],
   "source": [
    "vds4.query_variants(['variants.map(v => isDefined(va.info.AC)).counter()','variants.map(v => isDefined(va.info.MQ)).counter()'])"
   ]
  },
  {
   "cell_type": "code",
   "execution_count": 51,
   "metadata": {
    "collapsed": false
   },
   "outputs": [
    {
     "data": {
      "text/plain": [
       "True"
      ]
     },
     "execution_count": 51,
     "metadata": {},
     "output_type": "execute_result"
    }
   ],
   "source": [
    "vds2 = vds2.annotate_variants_expr('va = drop(va, qual)')\n",
    "vds3 = vds3.annotate_variants_expr('va = drop(va, filters)')\n",
    "vds4 = vds2.union([vds3],True)\n",
    "vds.count_variants() == vds4.count_variants()"
   ]
  },
  {
   "cell_type": "code",
   "execution_count": 52,
   "metadata": {
    "collapsed": false
   },
   "outputs": [
    {
     "data": {
      "text/plain": [
       "[Struct{u'info': Struct{u'FS': 3.069, u'POSITIVE_TRAIN_SITE': None, u'DB': None, u'BaseQRankSum': -2.904, u'MQRankSum': 0.51, u'DS': None, u'DP': 21095, u'MLEAC': [1], u'MLEAF': [0.0005747], u'culprit': u'MQ', u'CCC': 1740, u'HaplotypeScore': None, u'ClippingRankSum': -2.526, u'AC': None, u'END': None, u'AF': [0.0005747], u'VQSLOD': 0.621, u'AN': 200, u'MQ0': 0, u'GQ_MEAN': 62.21, u'NEGATIVE_TRAIN_SITE': None, u'ReadPosRankSum': 2.24, u'InbreedingCoeff': -0.0007, u'GQ_STDDEV': 53.19, u'HWP': 1.0, u'MQ': 58.36, u'QD': 11.59, u'NCC': 0}, u'useInKinship': True, u'qual': None, u'anno1': 5, u'anno2': 0, u'qc': Struct{u'rHeterozygosity': 0.01, u'dpStDev': 11.538440102544191, u'AC': 1, u'AF': 0.005, u'rHetHomVar': None, u'dpMean': 25.619999999999997, u'nNonRef': 1, u'nHomVar': 0, u'callRate': 1.0, u'gqMean': 62.610000000000014, u'nCalled': 100, u'rExpectedHetFrequency': 0.01, u'gqStDev': 9.155211630541375, u'nNotCalled': 0, u'nHet': 1, u'pHWE': 0.5, u'nHomRef': 99}, u'wasSplit': False, u'rsid': u'.', u'score': 5.0, u'aIndex': 1, u'filters': set([u'PASS']), u'pass': True, u'consequence': u'LOF', u'gene': u'A', u'panel_maf': 0.1},\n",
       " Struct{u'info': Struct{u'FS': 1.544, u'POSITIVE_TRAIN_SITE': None, u'DB': None, u'BaseQRankSum': 1.95, u'MQRankSum': 1.54, u'DS': None, u'DP': 39907, u'MLEAC': [2], u'MLEAF': [0.001149], u'culprit': u'InbreedingCoeff', u'CCC': 1740, u'HaplotypeScore': None, u'ClippingRankSum': -0.646, u'AC': [1], u'END': None, u'AF': [0.001149], u'VQSLOD': 2.39, u'AN': 200, u'MQ0': 0, u'GQ_MEAN': 89.68, u'NEGATIVE_TRAIN_SITE': None, u'ReadPosRankSum': 0.529, u'InbreedingCoeff': -0.0012, u'GQ_STDDEV': 61.68, u'HWP': 1.0, u'MQ': None, u'QD': 9.61, u'NCC': 0}, u'useInKinship': False, u'qual': 2461.31, u'anno1': 5, u'anno2': 0, u'qc': Struct{u'rHeterozygosity': 0.01, u'dpStDev': 22.45501057670648, u'AC': 1, u'AF': 0.005, u'rHetHomVar': None, u'dpMean': 46.25, u'nNonRef': 1, u'nHomVar': 0, u'callRate': 1.0, u'gqMean': 82.79000000000005, u'nCalled': 100, u'rExpectedHetFrequency': 0.01, u'gqStDev': 15.555253131980855, u'nNotCalled': 0, u'nHet': 1, u'pHWE': 0.5, u'nHomRef': 99}, u'wasSplit': False, u'rsid': u'.', u'score': 5.0, u'aIndex': 1, u'filters': None, u'pass': True, u'consequence': u'LOF', u'gene': u'A', u'panel_maf': 0.1}]"
      ]
     },
     "execution_count": 52,
     "metadata": {},
     "output_type": "execute_result"
    }
   ],
   "source": [
    "vds4.query_variants(['variants.map(v => va).collect()[2]',\n",
    "                     'variants.map(v => va).collect()[-2]'])"
   ]
  },
  {
   "cell_type": "code",
   "execution_count": 46,
   "metadata": {
    "collapsed": false
   },
   "outputs": [
    {
     "name": "stdout",
     "output_type": "stream",
     "text": [
      "Struct {\n",
      "    rsid: String,\n",
      "    qual: Double,\n",
      "    filters: Set[String],\n",
      "    pass: Boolean,\n",
      "    info: Struct {\n",
      "        NEGATIVE_TRAIN_SITE: Boolean,\n",
      "        HWP: Double,\n",
      "        AC: Array[Int],\n",
      "        culprit: String,\n",
      "        MQ0: Int,\n",
      "        ReadPosRankSum: Double,\n",
      "        AN: Int,\n",
      "        InbreedingCoeff: Double,\n",
      "        AF: Array[Double],\n",
      "        GQ_STDDEV: Double,\n",
      "        FS: Double,\n",
      "        DP: Int,\n",
      "        GQ_MEAN: Double,\n",
      "        POSITIVE_TRAIN_SITE: Boolean,\n",
      "        VQSLOD: Double,\n",
      "        ClippingRankSum: Double,\n",
      "        BaseQRankSum: Double,\n",
      "        MLEAF: Array[Double],\n",
      "        MLEAC: Array[Int],\n",
      "        MQ: Double,\n",
      "        QD: Double,\n",
      "        END: Int,\n",
      "        DB: Boolean,\n",
      "        HaplotypeScore: Double,\n",
      "        MQRankSum: Double,\n",
      "        CCC: Int,\n",
      "        NCC: Int,\n",
      "        DS: Boolean\n",
      "    },\n",
      "    useInKinship: Boolean,\n",
      "    panel_maf: Double,\n",
      "    anno1: Int,\n",
      "    anno2: Int,\n",
      "    consequence: String,\n",
      "    gene: String,\n",
      "    score: Double,\n",
      "    aIndex: Int,\n",
      "    wasSplit: Boolean,\n",
      "    qc: Struct {\n",
      "        callRate: Double,\n",
      "        AC: Int,\n",
      "        AF: Double,\n",
      "        nCalled: Int,\n",
      "        nNotCalled: Int,\n",
      "        nHomRef: Int,\n",
      "        nHet: Int,\n",
      "        nHomVar: Int,\n",
      "        dpMean: Double,\n",
      "        dpStDev: Double,\n",
      "        gqMean: Double,\n",
      "        gqStDev: Double,\n",
      "        nNonRef: Int,\n",
      "        rHeterozygosity: Double,\n",
      "        rHetHomVar: Double,\n",
      "        rExpectedHetFrequency: Double,\n",
      "        pHWE: Double\n",
      "    }\n",
      "}\n"
     ]
    }
   ],
   "source": [
    "print(vds.variant_schema)"
   ]
  },
  {
   "cell_type": "code",
   "execution_count": 59,
   "metadata": {
    "collapsed": false
   },
   "outputs": [
    {
     "data": {
      "text/plain": [
       "0.0"
      ]
     },
     "execution_count": 59,
     "metadata": {},
     "output_type": "execute_result"
    }
   ],
   "source": [
    "float(str(0))"
   ]
  },
  {
   "cell_type": "code",
   "execution_count": 19,
   "metadata": {
    "collapsed": false
   },
   "outputs": [
    {
     "name": "stdout",
     "output_type": "stream",
     "text": [
      "24\n"
     ]
    }
   ],
   "source": [
    "print(hc.eval_expr('[1,2,3,4,NA:Int].product'))"
   ]
  },
  {
   "cell_type": "code",
   "execution_count": null,
   "metadata": {
    "collapsed": true
   },
   "outputs": [],
   "source": []
  }
 ],
 "metadata": {
  "anaconda-cloud": {},
  "kernelspec": {
   "display_name": "Python [conda env:python2]",
   "language": "python",
   "name": "conda-env-python2-py"
  },
  "language_info": {
   "codemirror_mode": {
    "name": "ipython",
    "version": 2
   },
   "file_extension": ".py",
   "mimetype": "text/x-python",
   "name": "python",
   "nbconvert_exporter": "python",
   "pygments_lexer": "ipython2",
   "version": "2.7.13"
  }
 },
 "nbformat": 4,
 "nbformat_minor": 1
}
